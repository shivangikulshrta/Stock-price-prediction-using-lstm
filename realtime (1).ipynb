{
 "cells": [
  {
   "cell_type": "code",
   "execution_count": 6,
   "metadata": {},
   "outputs": [
    {
     "name": "stderr",
     "output_type": "stream",
     "text": [
      "[*********************100%***********************]  1 of 1 completed"
     ]
    },
    {
     "name": "stdout",
     "output_type": "stream",
     "text": [
      "Fetched AAPL data for the last 7 days without time:\n",
      "           Open        High         Low       Close   Adj Close   Volume  \\\n",
      "378  229.929993  230.559998  229.899994  230.550003  230.550003   553464   \n",
      "379  230.554993  230.690002  230.360001  230.610001  230.610001   471040   \n",
      "380  230.619995  230.649994  230.369904  230.589996  230.589996   396285   \n",
      "381  230.589996  230.860001  230.320007  230.419998  230.419998   827167   \n",
      "382  230.440002  230.770004  230.419998  230.750000  230.750000  1641554   \n",
      "\n",
      "           Date company_name  \n",
      "378  2024-10-23         AAPL  \n",
      "379  2024-10-23         AAPL  \n",
      "380  2024-10-23         AAPL  \n",
      "381  2024-10-23         AAPL  \n",
      "382  2024-10-23         AAPL  \n",
      "Last few rows of the dataset:\n",
      "           Open        High         Low       Close   Adj Close   Volume  \\\n",
      "378  229.929993  230.559998  229.899994  230.550003  230.550003   553464   \n",
      "379  230.554993  230.690002  230.360001  230.610001  230.610001   471040   \n",
      "380  230.619995  230.649994  230.369904  230.589996  230.589996   396285   \n",
      "381  230.589996  230.860001  230.320007  230.419998  230.419998   827167   \n",
      "382  230.440002  230.770004  230.419998  230.750000  230.750000  1641554   \n",
      "\n",
      "           Date company_name  \n",
      "378  2024-10-23         AAPL  \n",
      "379  2024-10-23         AAPL  \n",
      "380  2024-10-23         AAPL  \n",
      "381  2024-10-23         AAPL  \n",
      "382  2024-10-23         AAPL  \n"
     ]
    },
    {
     "name": "stderr",
     "output_type": "stream",
     "text": [
      "\n"
     ]
    }
   ],
   "source": [
    "import pandas as pd\n",
    "import yfinance as yf\n",
    "from datetime import datetime, timedelta\n",
    "\n",
    "# Define the stock ticker\n",
    "tech_list = ['AAPL']  # You can add more tickers if needed\n",
    "\n",
    "# Set the date range for the last 7 days\n",
    "end = datetime.now()\n",
    "start = end - timedelta(days=7)\n",
    "\n",
    "# Fetch the last 3 days of data with 1-minute interval\n",
    "def fetch_realtime_data(ticker='AAPL', interval='1m'):\n",
    "    \"\"\"Fetch real-time stock data for the last 7 days.\"\"\"\n",
    "    try:\n",
    "        data = yf.download(ticker, start=start, end=end, interval=interval)\n",
    "        \n",
    "        # Reset index to convert DateTimeIndex to a regular column\n",
    "        data = data.reset_index()\n",
    "        \n",
    "        # Keep only the 'Date' part by converting 'Datetime' column\n",
    "        data['Date'] = data['Datetime'].dt.date\n",
    "        \n",
    "        # Drop the original 'Datetime' column\n",
    "        data = data.drop(columns=['Datetime'])\n",
    "\n",
    "        # Add company name column\n",
    "        data['company_name'] = ticker.upper()  # Use the ticker for the company name\n",
    "        \n",
    "        print(f\"Fetched {ticker} data for the last 7 days without time:\")\n",
    "        print(data.tail())\n",
    "        return data\n",
    "    except Exception as e:\n",
    "        print(f\"Error fetching data: {e}\")\n",
    "        return None\n",
    "\n",
    "# Download and store the data for each ticker in the tech_list\n",
    "company_data = pd.DataFrame()  # Initialize an empty DataFrame\n",
    "\n",
    "for ticker in tech_list:\n",
    "    data = fetch_realtime_data(ticker, interval='5m')\n",
    "    if data is not None:\n",
    "        company_data = pd.concat([company_data, data], ignore_index=True)\n",
    "\n",
    "# Save the result to a CSV\n",
    "if not company_data.empty:\n",
    "    company_data.to_csv(\"result_dataset_last_7_days.csv\", index=False)\n",
    "\n",
    "# Display the last few rows of the dataset\n",
    "print(\"Last few rows of the dataset:\")\n",
    "print(company_data.tail())\n"
   ]
  }
 ],
 "metadata": {
  "kernelspec": {
   "display_name": "Python 3",
   "language": "python",
   "name": "python3"
  },
  "language_info": {
   "codemirror_mode": {
    "name": "ipython",
    "version": 3
   },
   "file_extension": ".py",
   "mimetype": "text/x-python",
   "name": "python",
   "nbconvert_exporter": "python",
   "pygments_lexer": "ipython3",
   "version": "3.10.1"
  }
 },
 "nbformat": 4,
 "nbformat_minor": 2
}
